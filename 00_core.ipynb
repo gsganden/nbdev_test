{
 "cells": [
  {
   "cell_type": "code",
   "execution_count": 1,
   "metadata": {
    "execution": {
     "iopub.execute_input": "2020-05-12T16:19:39.753970Z",
     "iopub.status.busy": "2020-05-12T16:19:39.753648Z",
     "iopub.status.idle": "2020-05-12T16:19:39.760977Z",
     "shell.execute_reply": "2020-05-12T16:19:39.759308Z",
     "shell.execute_reply.started": "2020-05-12T16:19:39.753916Z"
    }
   },
   "outputs": [],
   "source": [
    "# default_exp core"
   ]
  },
  {
   "cell_type": "markdown",
   "metadata": {},
   "source": [
    "# nbdev_test\n",
    "\n",
    "> Test nbdev"
   ]
  },
  {
   "cell_type": "code",
   "execution_count": 2,
   "metadata": {
    "execution": {
     "iopub.execute_input": "2020-05-12T16:19:39.762733Z",
     "iopub.status.busy": "2020-05-12T16:19:39.762468Z",
     "iopub.status.idle": "2020-05-12T16:19:40.062763Z",
     "shell.execute_reply": "2020-05-12T16:19:40.062285Z",
     "shell.execute_reply.started": "2020-05-12T16:19:39.762701Z"
    }
   },
   "outputs": [],
   "source": [
    "#hide\n",
    "from nbdev.showdoc import *"
   ]
  },
  {
   "cell_type": "code",
   "execution_count": 1,
   "metadata": {},
   "outputs": [],
   "source": [
    "#export\n",
    "def hello_world():\n",
    "    return \"hello world\""
   ]
  },
  {
   "cell_type": "code",
   "execution_count": 3,
   "metadata": {
    "execution": {
     "iopub.execute_input": "2020-05-12T16:19:40.064001Z",
     "iopub.status.busy": "2020-05-12T16:19:40.063826Z",
     "iopub.status.idle": "2020-05-12T16:19:40.087386Z",
     "shell.execute_reply": "2020-05-12T16:19:40.086815Z",
     "shell.execute_reply.started": "2020-05-12T16:19:40.063977Z"
    }
   },
   "outputs": [
    {
     "name": "stdout",
     "output_type": "stream",
     "text": [
      "Converted 00_core.ipynb.\n",
      "Converted index.ipynb.\n"
     ]
    }
   ],
   "source": [
    "from nbdev.export import *\n",
    "notebook2script()"
   ]
  }
 ],
 "metadata": {
  "kernelspec": {
   "display_name": "Python 3",
   "language": "python",
   "name": "python3"
  },
  "language_info": {
   "codemirror_mode": {
    "name": "ipython",
    "version": 3
   },
   "file_extension": ".py",
   "mimetype": "text/x-python",
   "name": "python",
   "nbconvert_exporter": "python",
   "pygments_lexer": "ipython3",
   "version": "3.7.7-final"
  }
 },
 "nbformat": 4,
 "nbformat_minor": 4
}